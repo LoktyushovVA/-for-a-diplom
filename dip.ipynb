{
 "cells": [
  {
   "cell_type": "code",
   "execution_count": 2,
   "metadata": {},
   "outputs": [],
   "source": [
    "import pandas as pd\n",
    "import numpy as np\n",
    "import random\n",
    "import math\n",
    "from tqdm import tqdm"
   ]
  },
  {
   "cell_type": "code",
   "execution_count": 3,
   "metadata": {},
   "outputs": [
    {
     "name": "stdout",
     "output_type": "stream",
     "text": [
      "Возможные значения для среднего теоритического интервала:50,100,250,500,1000\n",
      "Введите значение среднего теоретического интервала между ложными тревогами: 50\n",
      "Кол-во значений в стеке: 3\n",
      "Возможные значения мат.ожидания: 0; 0,5; 1,0; 1,5; 2,0; 2,5; 3,0\n",
      "Введите математическое ожидание: 0\n"
     ]
    }
   ],
   "source": [
    "#задание исходных данных:\n",
    "f = False\n",
    "while(f == False):\n",
    "    print(\"Возможные значения для среднего теоритического интервала:50,100,250,500,1000\")\n",
    "    Tlt = int(input('Введите значение среднего теоретического интервала между ложными тревогами: '))\n",
    "    if Tlt not in [50,100,250,500,1000]:\n",
    "        f = False\n",
    "        print(\"Ошибка!Введите значение из предоженного списка!\")\n",
    "        print()\n",
    "    else:\n",
    "        f = True\n",
    "\n",
    "N = int(input(\"Кол-во значений в стеке: \"))\n",
    "\n",
    "\n",
    "#h - решающая граница\n",
    "if Tlt == 50:\n",
    "    h = 2.054\n",
    "elif Tlt == 100:\n",
    "    h = 2.326\n",
    "elif Tlt == 250:\n",
    "    h = 2.652\n",
    "elif Tlt == 500:\n",
    "    h = 2.878\n",
    "else:\n",
    "    h = 3.090\n",
    "    \n",
    "#задание параметра разладки\n",
    "fm = False\n",
    "while(fm == False):\n",
    "    print(\"Возможные значения мат.ожидания: 0; 0,5; 1,0; 1,5; 2,0; 2,5; 3,0\")\n",
    "    m = float(input(\"Введите математическое ожидание: \"))\n",
    "    if m not in [0.0,0.5,1.0,1.5,2.0,2.5,3.0]:\n",
    "        fm = False\n",
    "        print(\"Ошибка!Введите значение из предоженного списка!\")\n",
    "        print()\n",
    "    else:\n",
    "        fm = True"
   ]
  },
  {
   "cell_type": "code",
   "execution_count": 4,
   "metadata": {},
   "outputs": [],
   "source": [
    "# генерация числа\n",
    "def generation(m):\n",
    "    u1 = random.uniform(0,1.0)\n",
    "    u2 = random.uniform(0,1.0)\n",
    "    x = math.cos(2*math.pi*u2)*(-2*math.log(u1,math.pi))**(1/2)\n",
    "    return x+m"
   ]
  },
  {
   "cell_type": "code",
   "execution_count": null,
   "metadata": {},
   "outputs": [
    {
     "name": "stderr",
     "output_type": "stream",
     "text": [
      "  0%|          | 4/10000 [00:03<3:24:14,  1.23s/it]"
     ]
    }
   ],
   "source": [
    "T = []\n",
    "for j in tqdm(np.arange(0,10000)):\n",
    "    # предварительная часть:\n",
    "    f = False\n",
    "    while(f == False):\n",
    "        X = []\n",
    "        for i in range(N):\n",
    "            X.append(generation(0))\n",
    "        g0 = np.sum(X)\n",
    "        if g0 >= h:\n",
    "            f = False # предварительная чать реализуется повторно\n",
    "        else:\n",
    "            f = True  # предварительная часть завершается и осуществляется переход к основной части\n",
    "    \n",
    "    # основная часть:\n",
    "    t = []\n",
    "    flag =  False\n",
    "    i = 0\n",
    "    while(flag == False):\n",
    "        i+=1\n",
    "        x_new = generation(m)\n",
    "        stek = np.append(X,x_new)\n",
    "        stek = np.delete(stek, 0)\n",
    "        g = np.sum(stek)\n",
    "        if g < h:\n",
    "            flag = False  # переходим к i+1 такту\n",
    "        else:   \n",
    "            flag = True   # j - заканчивается, фикс номер i и Tj = i\n",
    "    T.append(i)"
   ]
  },
  {
   "cell_type": "code",
   "execution_count": null,
   "metadata": {},
   "outputs": [],
   "source": [
    "# обработка результатов:\n",
    "Tmax = np.max(T)\n",
    "Tmin = np.min(T)\n",
    "Tmean = np.mean(T)\n",
    "D = np.var(T)\n",
    "std = np.std(T)"
   ]
  },
  {
   "cell_type": "code",
   "execution_count": null,
   "metadata": {},
   "outputs": [],
   "source": [
    "# вывод результатов:\n",
    "dict_table = {\"N\":N,\"h\":h,\"Мин.знач.\":Tmin,\"Макс. знач.\":Tmax,\"Cред.знач.\":Tmean,\"Дисперсия\":D,\n",
    "             \"Cреднекв. знач\":std}\n",
    "table = pd.DataFrame(dict_table,index = [0])\n",
    "table.set_index('N', inplace=True)\n",
    "table.head()"
   ]
  },
  {
   "cell_type": "code",
   "execution_count": null,
   "metadata": {},
   "outputs": [],
   "source": []
  }
 ],
 "metadata": {
  "kernelspec": {
   "display_name": "Python 3",
   "language": "python",
   "name": "python3"
  },
  "language_info": {
   "codemirror_mode": {
    "name": "ipython",
    "version": 3
   },
   "file_extension": ".py",
   "mimetype": "text/x-python",
   "name": "python",
   "nbconvert_exporter": "python",
   "pygments_lexer": "ipython3",
   "version": "3.6.13"
  }
 },
 "nbformat": 4,
 "nbformat_minor": 2
}
